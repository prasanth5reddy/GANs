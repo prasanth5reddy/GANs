{
  "nbformat": 4,
  "nbformat_minor": 0,
  "metadata": {
    "colab": {
      "name": "mnist.ipynb",
      "provenance": [],
      "collapsed_sections": [],
      "include_colab_link": true
    },
    "kernelspec": {
      "name": "python3",
      "display_name": "Python 3"
    },
    "accelerator": "GPU"
  },
  "cells": [
    {
      "cell_type": "markdown",
      "metadata": {
        "id": "view-in-github",
        "colab_type": "text"
      },
      "source": [
        "<a href=\"https://colab.research.google.com/github/prasanth5reddy/GANs/blob/master/Vanilla/mnist.ipynb\" target=\"_parent\"><img src=\"https://colab.research.google.com/assets/colab-badge.svg\" alt=\"Open In Colab\"/></a>"
      ]
    },
    {
      "cell_type": "markdown",
      "metadata": {
        "id": "VqkGzZzwFnMP",
        "colab_type": "text"
      },
      "source": [
        "Mounting Drive"
      ]
    },
    {
      "cell_type": "code",
      "metadata": {
        "id": "BbRJvNH9Evti",
        "colab_type": "code",
        "outputId": "5a827ae0-de07-4215-90b5-c9567ba5b8f4",
        "colab": {
          "base_uri": "https://localhost:8080/",
          "height": 34
        }
      },
      "source": [
        "from google.colab import drive\n",
        "drive.mount('/content/drive')\n",
        "\n",
        "import sys\n",
        "w_dir = '/content/drive/My Drive/Colab/GANs/'\n",
        "sys.path.append(w_dir)"
      ],
      "execution_count": 1,
      "outputs": [
        {
          "output_type": "stream",
          "text": [
            "Drive already mounted at /content/drive; to attempt to forcibly remount, call drive.mount(\"/content/drive\", force_remount=True).\n"
          ],
          "name": "stdout"
        }
      ]
    },
    {
      "cell_type": "markdown",
      "metadata": {
        "id": "vZyrYxwFFo-i",
        "colab_type": "text"
      },
      "source": [
        "Installing Libraries"
      ]
    },
    {
      "cell_type": "code",
      "metadata": {
        "id": "MDVS3KerFmyR",
        "colab_type": "code",
        "outputId": "6d1987e5-397b-46e8-9ffb-c2458fce9685",
        "colab": {
          "base_uri": "https://localhost:8080/",
          "height": 148
        }
      },
      "source": [
        "!pip3 install torch torchvision"
      ],
      "execution_count": 2,
      "outputs": [
        {
          "output_type": "stream",
          "text": [
            "Requirement already satisfied: torch in /usr/local/lib/python3.6/dist-packages (1.1.0)\n",
            "Requirement already satisfied: torchvision in /usr/local/lib/python3.6/dist-packages (0.3.0)\n",
            "Requirement already satisfied: numpy in /usr/local/lib/python3.6/dist-packages (from torch) (1.16.5)\n",
            "Requirement already satisfied: six in /usr/local/lib/python3.6/dist-packages (from torchvision) (1.12.0)\n",
            "Requirement already satisfied: pillow>=4.1.1 in /usr/local/lib/python3.6/dist-packages (from torchvision) (4.3.0)\n",
            "Requirement already satisfied: olefile in /usr/local/lib/python3.6/dist-packages (from pillow>=4.1.1->torchvision) (0.46)\n"
          ],
          "name": "stdout"
        }
      ]
    },
    {
      "cell_type": "markdown",
      "metadata": {
        "id": "9BvxtXeiFvU9",
        "colab_type": "text"
      },
      "source": [
        "Importing Libraries"
      ]
    },
    {
      "cell_type": "code",
      "metadata": {
        "id": "8iKsQ53veOkG",
        "colab_type": "code",
        "colab": {}
      },
      "source": [
        "import torch\n",
        "from torch import nn, optim\n",
        "from torch.autograd import Variable\n",
        "from torchvision import transforms, datasets, utils as vutils\n",
        "import matplotlib.pyplot as plt\n",
        "import numpy as np\n",
        "import time"
      ],
      "execution_count": 0,
      "outputs": []
    },
    {
      "cell_type": "markdown",
      "metadata": {
        "id": "LNmcIlY1hy3G",
        "colab_type": "text"
      },
      "source": [
        "To use or not use CUDA"
      ]
    },
    {
      "cell_type": "code",
      "metadata": {
        "id": "e_Fiw0YjeV-G",
        "colab_type": "code",
        "outputId": "e879cdea-cd6d-415b-d0c0-b1bf73e1d7f3",
        "colab": {
          "base_uri": "https://localhost:8080/",
          "height": 34
        }
      },
      "source": [
        "use_cuda = True\n",
        "cuda = True if use_cuda and torch.cuda.is_available() else False\n",
        "cuda"
      ],
      "execution_count": 4,
      "outputs": [
        {
          "output_type": "execute_result",
          "data": {
            "text/plain": [
              "True"
            ]
          },
          "metadata": {
            "tags": []
          },
          "execution_count": 4
        }
      ]
    },
    {
      "cell_type": "markdown",
      "metadata": {
        "id": "kAVs1VoUjBrM",
        "colab_type": "text"
      },
      "source": [
        "Dataset"
      ]
    },
    {
      "cell_type": "code",
      "metadata": {
        "id": "nv6ChsB-jCXw",
        "colab_type": "code",
        "colab": {}
      },
      "source": [
        "def mnist_data():\n",
        "  compose = transforms.Compose([\n",
        "                transforms.ToTensor(),\n",
        "                transforms.Normalize([0.5], [0.5])])\n",
        "  out_dir = w_dir + 'data'\n",
        "  return datasets.MNIST(root=out_dir, download=True, train=True, transform=compose)\n",
        "\n",
        "data = mnist_data()\n",
        "batch_size = 128\n",
        "dataloader = torch.utils.data.DataLoader(data, batch_size=batch_size, shuffle=True)"
      ],
      "execution_count": 0,
      "outputs": []
    },
    {
      "cell_type": "code",
      "metadata": {
        "id": "6RN0b_k4C4kL",
        "colab_type": "code",
        "colab": {
          "base_uri": "https://localhost:8080/",
          "height": 499
        },
        "outputId": "7f4e1a1c-efbc-461c-edd2-ce0dae8ba157"
      },
      "source": [
        "real_batch = next(iter(dataloader))\n",
        "plt.figure(figsize=(8,8))\n",
        "plt.axis(\"off\")\n",
        "plt.title(\"Training Images\")\n",
        "plt.imshow(np.transpose(vutils.make_grid(real_batch[0].cuda()[:64], padding=2, normalize=True).cpu(),(1,2,0)))\n",
        "plt.show()"
      ],
      "execution_count": 6,
      "outputs": [
        {
          "output_type": "display_data",
          "data": {
            "image/png": "[encoded data removed]",
            "text/plain": [
              "<Figure size 576x576 with 1 Axes>"
            ]
          },
          "metadata": {
            "tags": []
          }
        }
      ]
    },
    {
      "cell_type": "markdown",
      "metadata": {
        "id": "AEn-qNQNlzHO",
        "colab_type": "text"
      },
      "source": [
        "Networks"
      ]
    },
    {
      "cell_type": "code",
      "metadata": {
        "id": "isqAUw9Nlb3i",
        "colab_type": "code",
        "colab": {}
      },
      "source": [
        "class Discriminator(nn.Module):\n",
        "  def __init__(self):\n",
        "    super(Discriminator, self).__init__()\n",
        "    # since the input image size is 28x28\n",
        "    n_inputs = 784\n",
        "    n_out = 1\n",
        "    \n",
        "    self.layer_1 = nn.Sequential(\n",
        "      nn.Linear(n_inputs, 1024),\n",
        "      nn.LeakyReLU(0.2),\n",
        "      nn.Dropout(0.3))\n",
        "    \n",
        "    self.layer_2 = nn.Sequential(\n",
        "      nn.Linear(1024, 512),\n",
        "      nn.LeakyReLU(0.2),\n",
        "      nn.Dropout(0.3))\n",
        "    \n",
        "    self.layer_3 = nn.Sequential(\n",
        "      nn.Linear(512, 256),\n",
        "      nn.LeakyReLU(0.2),\n",
        "      nn.Dropout(0.3))\n",
        "    \n",
        "    self.layer_4 = nn.Sequential(\n",
        "      nn.Linear(256, n_out),\n",
        "      nn.Sigmoid())\n",
        "    \n",
        "  def forward(self, x):\n",
        "    x = self.layer_1(x)\n",
        "    x = self.layer_2(x)\n",
        "    x = self.layer_3(x)\n",
        "    x = self.layer_4(x)\n",
        "    return x\n",
        "\n",
        "def images_to_vectors(images):\n",
        "  return images.view(images.size(0), -1)\n",
        "\n",
        "def vectors_to_images(vectors):\n",
        "    return vectors.view(vectors.size(0), 1, 28, 28)"
      ],
      "execution_count": 0,
      "outputs": []
    },
    {
      "cell_type": "code",
      "metadata": {
        "id": "LejD-cjBo7w4",
        "colab_type": "code",
        "colab": {}
      },
      "source": [
        "class Generator(nn.Module):\n",
        "  def __init__(self):\n",
        "    super(Generator, self).__init__()\n",
        "    # number of inputs is called latent dimension\n",
        "    n_inputs = 100\n",
        "    n_out = 784\n",
        "    \n",
        "    self.layer_1 = nn.Sequential(\n",
        "      nn.Linear(n_inputs, 256),\n",
        "      nn.LeakyReLU(0.2))\n",
        "    \n",
        "    self.layer_2 = nn.Sequential(\n",
        "      nn.Linear(256, 512),\n",
        "      nn.LeakyReLU(0.2))\n",
        "    \n",
        "    self.layer_3 = nn.Sequential(\n",
        "      nn.Linear(512, 1024),\n",
        "      nn.LeakyReLU(0.2))\n",
        "    \n",
        "    self.layer_4 = nn.Sequential(\n",
        "      nn.Linear(1024, n_out),\n",
        "      nn.Tanh())\n",
        "    \n",
        "  def forward(self, x):\n",
        "    x = self.layer_1(x)\n",
        "    x = self.layer_2(x)\n",
        "    x = self.layer_3(x)\n",
        "    x = self.layer_4(x)\n",
        "    return x\n",
        "  \n",
        "def noise(size):\n",
        "  noise = Variable(torch.randn(size, 100))\n",
        "  return noise.cuda() if cuda else noise"
      ],
      "execution_count": 0,
      "outputs": []
    },
    {
      "cell_type": "code",
      "metadata": {
        "id": "vsbfChu8rHxb",
        "colab_type": "code",
        "colab": {}
      },
      "source": [
        "generator = Generator()\n",
        "discriminator = Discriminator()\n",
        "if cuda:\n",
        "  generator.cuda()\n",
        "  discriminator.cuda()"
      ],
      "execution_count": 0,
      "outputs": []
    },
    {
      "cell_type": "markdown",
      "metadata": {
        "id": "JlCYqL-Yrq3q",
        "colab_type": "text"
      },
      "source": [
        "Optimizers"
      ]
    },
    {
      "cell_type": "code",
      "metadata": {
        "id": "TDStvdSwrVd0",
        "colab_type": "code",
        "colab": {}
      },
      "source": [
        "d_optimizer = optim.Adam(discriminator.parameters(), lr=0.0002)\n",
        "g_optimizer = optim.Adam(generator.parameters(), lr=0.0002)\n",
        "\n",
        "loss = nn.BCELoss()\n",
        "\n",
        "# Number of steps to apply to the discriminator\n",
        "d_steps = 1  # In Goodfellow et. al 2014 this variable is assigned to 1\n",
        "# Number of epochs\n",
        "num_epochs = 100"
      ],
      "execution_count": 0,
      "outputs": []
    },
    {
      "cell_type": "markdown",
      "metadata": {
        "id": "5m0s41S9sxcc",
        "colab_type": "text"
      },
      "source": [
        "Generate labels"
      ]
    },
    {
      "cell_type": "code",
      "metadata": {
        "id": "CJL5JjBlsevh",
        "colab_type": "code",
        "colab": {}
      },
      "source": [
        "def real_label(size):\n",
        "  data = Variable(torch.ones(size, 1))\n",
        "  return data.cuda() if cuda else data\n",
        "\n",
        "def fake_label(size):\n",
        "  data = Variable(torch.zeros(size, 1))\n",
        "  return data.cuda() if cuda else data"
      ],
      "execution_count": 0,
      "outputs": []
    },
    {
      "cell_type": "markdown",
      "metadata": {
        "id": "KznwbLTXuK2w",
        "colab_type": "text"
      },
      "source": [
        "Train functions"
      ]
    },
    {
      "cell_type": "code",
      "metadata": {
        "id": "_MT_IkqYtlkJ",
        "colab_type": "code",
        "colab": {}
      },
      "source": [
        "def train_discriminator(X, X_dash, net_D, loss, optim_D):\n",
        "  optim_D.zero_grad()\n",
        "  \n",
        "  real_Y = net_D(X)\n",
        "  fake_Y = net_D(X_dash)\n",
        "  \n",
        "  loss_D = loss(real_Y, real_label(X.size(0))) + loss(fake_Y, fake_label(X.size(0)))\n",
        "  loss_D.backward()\n",
        "  \n",
        "  optim_D.step()\n",
        "  return torch.sum(loss_D).item()\n",
        "  "
      ],
      "execution_count": 0,
      "outputs": []
    },
    {
      "cell_type": "code",
      "metadata": {
        "id": "NEKbA602wqUS",
        "colab_type": "code",
        "colab": {}
      },
      "source": [
        "def train_generator(X_dash, net_D, loss, optim_G):\n",
        "  optim_G.zero_grad()\n",
        "\n",
        "  fake_Y = net_D(X_dash)\n",
        "  \n",
        "  loss_G = loss(fake_Y, real_label(X_dash.size(0)))\n",
        "  loss_G.backward()\n",
        "  \n",
        "  optim_G.step()\n",
        "  return torch.sum(loss_G).item()"
      ],
      "execution_count": 0,
      "outputs": []
    },
    {
      "cell_type": "markdown",
      "metadata": {
        "id": "V8p6cEYT0stV",
        "colab_type": "text"
      },
      "source": [
        "Training"
      ]
    },
    {
      "cell_type": "code",
      "metadata": {
        "id": "bgqIon_GzNqe",
        "colab_type": "code",
        "outputId": "f604ca86-8eb2-41d5-b27a-7969c33769e9",
        "colab": {
          "base_uri": "https://localhost:8080/",
          "height": 1000
        }
      },
      "source": [
        "list_loss_G, list_loss_D = [], []\n",
        "for epoch in range(1, num_epochs + 1):\n",
        "  start = time.time()\n",
        "  sum_loss_G, sum_loss_D, num_of_samples = 0, 0, 0\n",
        "  for i, (imgs, _) in enumerate(dataloader):\n",
        "    # Train Discriminator\n",
        "    X = Variable(images_to_vectors(imgs))\n",
        "    X = X.cuda() if cuda else X\n",
        "    Z = noise(X.size(0))\n",
        "    X_dash = generator(Z)\n",
        "    # Don't want to update weights of generator while training discriminator. Hence, detach()\n",
        "    loss_D = train_discriminator(X, X_dash.detach(), discriminator, loss, d_optimizer)\n",
        "    sum_loss_D += loss_D\n",
        "    \n",
        "    # Train Generator\n",
        "    loss_G = train_generator(X_dash, discriminator, loss, g_optimizer)\n",
        "    sum_loss_G += loss_G\n",
        "    \n",
        "    num_of_samples += batch_size\n",
        "    \n",
        "#   print(f'Epoch: [{epoch}/{num_epochs}], Batch Number: [{i + 1}/{len(dataloader)}]')\n",
        "#   print(f'Discriminator Loss: {loss_D}, Generator Loss: {loss_G}')\n",
        "\n",
        "  loss_dis, loss_gen = sum_loss_D / num_of_samples, sum_loss_G / num_of_samples \n",
        "  print(f'Epoch: [{epoch}/{num_epochs}], Run Time: {round(time.time() - start, 4)} Sec')\n",
        "  print(f'Discriminator Loss: {round(loss_dis, 4)}, Generator Loss: {round(loss_gen, 4)}')\n",
        "  list_loss_D.append(loss_dis)\n",
        "  list_loss_G.append(loss_gen)"
      ],
      "execution_count": 14,
      "outputs": [
        {
          "output_type": "stream",
          "text": [
            "Epoch: [1/100], Run Time: 10.6485 Sec\n",
            "Discriminator Loss: 0.0083, Generator Loss: 0.0235\n",
            "Epoch: [2/100], Run Time: 10.5355 Sec\n",
            "Discriminator Loss: 0.0059, Generator Loss: 0.0253\n",
            "Epoch: [3/100], Run Time: 10.5541 Sec\n",
            "Discriminator Loss: 0.0076, Generator Loss: 0.0155\n",
            "Epoch: [4/100], Run Time: 10.5982 Sec\n",
            "Discriminator Loss: 0.0071, Generator Loss: 0.017\n",
            "Epoch: [5/100], Run Time: 10.708 Sec\n",
            "Discriminator Loss: 0.0058, Generator Loss: 0.0181\n",
            "Epoch: [6/100], Run Time: 10.6003 Sec\n",
            "Discriminator Loss: 0.0036, Generator Loss: 0.0243\n",
            "Epoch: [7/100], Run Time: 10.5816 Sec\n",
            "Discriminator Loss: 0.0038, Generator Loss: 0.0247\n",
            "Epoch: [8/100], Run Time: 10.5787 Sec\n",
            "Discriminator Loss: 0.0041, Generator Loss: 0.0214\n",
            "Epoch: [9/100], Run Time: 10.6248 Sec\n",
            "Discriminator Loss: 0.004, Generator Loss: 0.0222\n",
            "Epoch: [10/100], Run Time: 10.5671 Sec\n",
            "Discriminator Loss: 0.004, Generator Loss: 0.0222\n",
            "Epoch: [11/100], Run Time: 10.5919 Sec\n",
            "Discriminator Loss: 0.0048, Generator Loss: 0.0194\n",
            "Epoch: [12/100], Run Time: 10.6379 Sec\n",
            "Discriminator Loss: 0.0047, Generator Loss: 0.0198\n",
            "Epoch: [13/100], Run Time: 10.6753 Sec\n",
            "Discriminator Loss: 0.0041, Generator Loss: 0.0211\n",
            "Epoch: [14/100], Run Time: 10.5737 Sec\n",
            "Discriminator Loss: 0.0047, Generator Loss: 0.0203\n",
            "Epoch: [15/100], Run Time: 10.6249 Sec\n",
            "Discriminator Loss: 0.005, Generator Loss: 0.0189\n",
            "Epoch: [16/100], Run Time: 10.7278 Sec\n",
            "Discriminator Loss: 0.0052, Generator Loss: 0.018\n",
            "Epoch: [17/100], Run Time: 10.709 Sec\n",
            "Discriminator Loss: 0.0052, Generator Loss: 0.0179\n",
            "Epoch: [18/100], Run Time: 10.7031 Sec\n",
            "Discriminator Loss: 0.0055, Generator Loss: 0.0168\n",
            "Epoch: [19/100], Run Time: 10.7653 Sec\n",
            "Discriminator Loss: 0.0063, Generator Loss: 0.0148\n",
            "Epoch: [20/100], Run Time: 10.7731 Sec\n",
            "Discriminator Loss: 0.0059, Generator Loss: 0.0158\n",
            "Epoch: [21/100], Run Time: 10.7907 Sec\n",
            "Discriminator Loss: 0.0061, Generator Loss: 0.0153\n",
            "Epoch: [22/100], Run Time: 10.8264 Sec\n",
            "Discriminator Loss: 0.0063, Generator Loss: 0.0145\n",
            "Epoch: [23/100], Run Time: 10.9236 Sec\n",
            "Discriminator Loss: 0.0068, Generator Loss: 0.0136\n",
            "Epoch: [24/100], Run Time: 10.7267 Sec\n",
            "Discriminator Loss: 0.0066, Generator Loss: 0.0141\n",
            "Epoch: [25/100], Run Time: 10.699 Sec\n",
            "Discriminator Loss: 0.0066, Generator Loss: 0.0139\n",
            "Epoch: [26/100], Run Time: 10.7041 Sec\n",
            "Discriminator Loss: 0.0066, Generator Loss: 0.014\n",
            "Epoch: [27/100], Run Time: 10.7338 Sec\n",
            "Discriminator Loss: 0.0069, Generator Loss: 0.0132\n",
            "Epoch: [28/100], Run Time: 10.6788 Sec\n",
            "Discriminator Loss: 0.007, Generator Loss: 0.0128\n",
            "Epoch: [29/100], Run Time: 10.5803 Sec\n",
            "Discriminator Loss: 0.0073, Generator Loss: 0.0123\n",
            "Epoch: [30/100], Run Time: 10.6499 Sec\n",
            "Discriminator Loss: 0.0073, Generator Loss: 0.0123\n",
            "Epoch: [31/100], Run Time: 10.5784 Sec\n",
            "Discriminator Loss: 0.0073, Generator Loss: 0.0123\n",
            "Epoch: [32/100], Run Time: 10.6298 Sec\n",
            "Discriminator Loss: 0.0073, Generator Loss: 0.012\n",
            "Epoch: [33/100], Run Time: 10.6151 Sec\n",
            "Discriminator Loss: 0.0071, Generator Loss: 0.0126\n",
            "Epoch: [34/100], Run Time: 10.5815 Sec\n",
            "Discriminator Loss: 0.0073, Generator Loss: 0.0122\n",
            "Epoch: [35/100], Run Time: 10.7012 Sec\n",
            "Discriminator Loss: 0.0075, Generator Loss: 0.0117\n",
            "Epoch: [36/100], Run Time: 10.5523 Sec\n",
            "Discriminator Loss: 0.0077, Generator Loss: 0.0111\n",
            "Epoch: [37/100], Run Time: 10.5169 Sec\n",
            "Discriminator Loss: 0.0079, Generator Loss: 0.0107\n",
            "Epoch: [38/100], Run Time: 10.5334 Sec\n",
            "Discriminator Loss: 0.0077, Generator Loss: 0.0112\n",
            "Epoch: [39/100], Run Time: 10.4528 Sec\n",
            "Discriminator Loss: 0.0077, Generator Loss: 0.0113\n",
            "Epoch: [40/100], Run Time: 10.4775 Sec\n",
            "Discriminator Loss: 0.008, Generator Loss: 0.0107\n",
            "Epoch: [41/100], Run Time: 10.4874 Sec\n",
            "Discriminator Loss: 0.008, Generator Loss: 0.0106\n",
            "Epoch: [42/100], Run Time: 10.5585 Sec\n",
            "Discriminator Loss: 0.0081, Generator Loss: 0.0106\n",
            "Epoch: [43/100], Run Time: 10.6253 Sec\n",
            "Discriminator Loss: 0.0081, Generator Loss: 0.0105\n",
            "Epoch: [44/100], Run Time: 10.572 Sec\n",
            "Discriminator Loss: 0.0081, Generator Loss: 0.0105\n",
            "Epoch: [45/100], Run Time: 10.5058 Sec\n",
            "Discriminator Loss: 0.0082, Generator Loss: 0.0101\n",
            "Epoch: [46/100], Run Time: 10.5641 Sec\n",
            "Discriminator Loss: 0.0084, Generator Loss: 0.0098\n",
            "Epoch: [47/100], Run Time: 10.6551 Sec\n",
            "Discriminator Loss: 0.0084, Generator Loss: 0.0099\n",
            "Epoch: [48/100], Run Time: 10.616 Sec\n",
            "Discriminator Loss: 0.0084, Generator Loss: 0.0099\n",
            "Epoch: [49/100], Run Time: 10.5697 Sec\n",
            "Discriminator Loss: 0.0084, Generator Loss: 0.0099\n",
            "Epoch: [50/100], Run Time: 10.7048 Sec\n",
            "Discriminator Loss: 0.0087, Generator Loss: 0.0094\n",
            "Epoch: [51/100], Run Time: 10.6873 Sec\n",
            "Discriminator Loss: 0.0088, Generator Loss: 0.0091\n",
            "Epoch: [52/100], Run Time: 10.7965 Sec\n",
            "Discriminator Loss: 0.0085, Generator Loss: 0.0096\n",
            "Epoch: [53/100], Run Time: 10.5872 Sec\n",
            "Discriminator Loss: 0.0086, Generator Loss: 0.0095\n",
            "Epoch: [54/100], Run Time: 10.5861 Sec\n",
            "Discriminator Loss: 0.0087, Generator Loss: 0.0093\n",
            "Epoch: [55/100], Run Time: 10.6394 Sec\n",
            "Discriminator Loss: 0.0087, Generator Loss: 0.0092\n",
            "Epoch: [56/100], Run Time: 10.6968 Sec\n",
            "Discriminator Loss: 0.0088, Generator Loss: 0.009\n",
            "Epoch: [57/100], Run Time: 10.6891 Sec\n",
            "Discriminator Loss: 0.0089, Generator Loss: 0.009\n",
            "Epoch: [58/100], Run Time: 10.7132 Sec\n",
            "Discriminator Loss: 0.0088, Generator Loss: 0.0089\n",
            "Epoch: [59/100], Run Time: 10.6017 Sec\n",
            "Discriminator Loss: 0.0091, Generator Loss: 0.0085\n",
            "Epoch: [60/100], Run Time: 10.6211 Sec\n",
            "Discriminator Loss: 0.009, Generator Loss: 0.0088\n",
            "Epoch: [61/100], Run Time: 10.6568 Sec\n",
            "Discriminator Loss: 0.009, Generator Loss: 0.0087\n",
            "Epoch: [62/100], Run Time: 10.6683 Sec\n",
            "Discriminator Loss: 0.009, Generator Loss: 0.0086\n",
            "Epoch: [63/100], Run Time: 10.6388 Sec\n",
            "Discriminator Loss: 0.009, Generator Loss: 0.0087\n",
            "Epoch: [64/100], Run Time: 10.6073 Sec\n",
            "Discriminator Loss: 0.0091, Generator Loss: 0.0085\n",
            "Epoch: [65/100], Run Time: 10.5821 Sec\n",
            "Discriminator Loss: 0.0091, Generator Loss: 0.0084\n",
            "Epoch: [66/100], Run Time: 10.6075 Sec\n",
            "Discriminator Loss: 0.0092, Generator Loss: 0.0083\n",
            "Epoch: [67/100], Run Time: 10.5984 Sec\n",
            "Discriminator Loss: 0.0092, Generator Loss: 0.0084\n",
            "Epoch: [68/100], Run Time: 10.6006 Sec\n",
            "Discriminator Loss: 0.0092, Generator Loss: 0.0084\n",
            "Epoch: [69/100], Run Time: 10.6465 Sec\n",
            "Discriminator Loss: 0.0092, Generator Loss: 0.0083\n",
            "Epoch: [70/100], Run Time: 10.5608 Sec\n",
            "Discriminator Loss: 0.0092, Generator Loss: 0.0083\n",
            "Epoch: [71/100], Run Time: 10.5208 Sec\n",
            "Discriminator Loss: 0.0092, Generator Loss: 0.0083\n",
            "Epoch: [72/100], Run Time: 10.5639 Sec\n",
            "Discriminator Loss: 0.0092, Generator Loss: 0.0083\n",
            "Epoch: [73/100], Run Time: 10.6612 Sec\n",
            "Discriminator Loss: 0.0093, Generator Loss: 0.0082\n",
            "Epoch: [74/100], Run Time: 10.5553 Sec\n",
            "Discriminator Loss: 0.0093, Generator Loss: 0.0081\n",
            "Epoch: [75/100], Run Time: 10.5131 Sec\n",
            "Discriminator Loss: 0.0092, Generator Loss: 0.0083\n",
            "Epoch: [76/100], Run Time: 10.5487 Sec\n",
            "Discriminator Loss: 0.0093, Generator Loss: 0.0082\n",
            "Epoch: [77/100], Run Time: 10.4765 Sec\n",
            "Discriminator Loss: 0.0094, Generator Loss: 0.008\n",
            "Epoch: [78/100], Run Time: 10.4851 Sec\n",
            "Discriminator Loss: 0.0093, Generator Loss: 0.008\n",
            "Epoch: [79/100], Run Time: 10.5973 Sec\n",
            "Discriminator Loss: 0.0094, Generator Loss: 0.0081\n",
            "Epoch: [80/100], Run Time: 10.5849 Sec\n",
            "Discriminator Loss: 0.0094, Generator Loss: 0.0079\n",
            "Epoch: [81/100], Run Time: 10.7191 Sec\n",
            "Discriminator Loss: 0.0094, Generator Loss: 0.0081\n",
            "Epoch: [82/100], Run Time: 10.6117 Sec\n",
            "Discriminator Loss: 0.0094, Generator Loss: 0.0079\n",
            "Epoch: [83/100], Run Time: 10.6021 Sec\n",
            "Discriminator Loss: 0.0094, Generator Loss: 0.0081\n",
            "Epoch: [84/100], Run Time: 10.5645 Sec\n",
            "Discriminator Loss: 0.0094, Generator Loss: 0.008\n",
            "Epoch: [85/100], Run Time: 10.5495 Sec\n",
            "Discriminator Loss: 0.0094, Generator Loss: 0.008\n",
            "Epoch: [86/100], Run Time: 10.5185 Sec\n",
            "Discriminator Loss: 0.0094, Generator Loss: 0.0078\n",
            "Epoch: [87/100], Run Time: 10.4215 Sec\n",
            "Discriminator Loss: 0.0095, Generator Loss: 0.008\n",
            "Epoch: [88/100], Run Time: 10.5955 Sec\n",
            "Discriminator Loss: 0.0094, Generator Loss: 0.0079\n",
            "Epoch: [89/100], Run Time: 10.5413 Sec\n",
            "Discriminator Loss: 0.0094, Generator Loss: 0.0079\n",
            "Epoch: [90/100], Run Time: 10.47 Sec\n",
            "Discriminator Loss: 0.0094, Generator Loss: 0.0078\n",
            "Epoch: [91/100], Run Time: 10.4862 Sec\n",
            "Discriminator Loss: 0.0095, Generator Loss: 0.0079\n",
            "Epoch: [92/100], Run Time: 10.5236 Sec\n",
            "Discriminator Loss: 0.0094, Generator Loss: 0.0079\n",
            "Epoch: [93/100], Run Time: 10.4973 Sec\n",
            "Discriminator Loss: 0.0096, Generator Loss: 0.0078\n",
            "Epoch: [94/100], Run Time: 10.4951 Sec\n",
            "Discriminator Loss: 0.0095, Generator Loss: 0.0078\n",
            "Epoch: [95/100], Run Time: 10.5801 Sec\n",
            "Discriminator Loss: 0.0096, Generator Loss: 0.0076\n",
            "Epoch: [96/100], Run Time: 10.5947 Sec\n",
            "Discriminator Loss: 0.0096, Generator Loss: 0.0076\n",
            "Epoch: [97/100], Run Time: 10.4541 Sec\n",
            "Discriminator Loss: 0.0096, Generator Loss: 0.0076\n",
            "Epoch: [98/100], Run Time: 10.4904 Sec\n",
            "Discriminator Loss: 0.0096, Generator Loss: 0.0076\n",
            "Epoch: [99/100], Run Time: 10.4742 Sec\n",
            "Discriminator Loss: 0.0096, Generator Loss: 0.0076\n",
            "Epoch: [100/100], Run Time: 10.4879 Sec\n",
            "Discriminator Loss: 0.0096, Generator Loss: 0.0075\n"
          ],
          "name": "stdout"
        }
      ]
    },
    {
      "cell_type": "markdown",
      "metadata": {
        "id": "P8DurjqGTsNv",
        "colab_type": "text"
      },
      "source": [
        "Save Parameters"
      ]
    },
    {
      "cell_type": "code",
      "metadata": {
        "id": "_6UAhOYfTrgp",
        "colab_type": "code",
        "colab": {}
      },
      "source": [
        "torch.save(generator.state_dict(), w_dir + 'Vanilla/generator.pth')\n",
        "torch.save(discriminator.state_dict(), w_dir + 'Vanilla/discriminator.pth')"
      ],
      "execution_count": 0,
      "outputs": []
    },
    {
      "cell_type": "markdown",
      "metadata": {
        "id": "SmsaKyZsAR9a",
        "colab_type": "text"
      },
      "source": [
        "Load Parameters"
      ]
    },
    {
      "cell_type": "code",
      "metadata": {
        "id": "xCqqlK4uATzL",
        "colab_type": "code",
        "outputId": "36ab8d23-f4d9-4b70-9134-41a05b0028cd",
        "colab": {
          "base_uri": "https://localhost:8080/",
          "height": 663
        }
      },
      "source": [
        "generator = Generator()\n",
        "discriminator = Discriminator()\n",
        "if cuda:\n",
        "  generator.cuda()\n",
        "  discriminator.cuda()\n",
        "  \n",
        "generator.load_state_dict(torch.load(w_dir + 'Vanilla/generator.pth'))\n",
        "discriminator.load_state_dict(torch.load(w_dir + 'Vanilla/discriminator.pth'))\n",
        "\n",
        "generator.eval(), discriminator.eval()"
      ],
      "execution_count": 14,
      "outputs": [
        {
          "output_type": "execute_result",
          "data": {
            "text/plain": [
              "(Generator(\n",
              "   (layer_1): Sequential(\n",
              "     (0): Linear(in_features=100, out_features=256, bias=True)\n",
              "     (1): LeakyReLU(negative_slope=0.2)\n",
              "   )\n",
              "   (layer_2): Sequential(\n",
              "     (0): Linear(in_features=256, out_features=512, bias=True)\n",
              "     (1): LeakyReLU(negative_slope=0.2)\n",
              "   )\n",
              "   (layer_3): Sequential(\n",
              "     (0): Linear(in_features=512, out_features=1024, bias=True)\n",
              "     (1): LeakyReLU(negative_slope=0.2)\n",
              "   )\n",
              "   (layer_4): Sequential(\n",
              "     (0): Linear(in_features=1024, out_features=784, bias=True)\n",
              "     (1): Tanh()\n",
              "   )\n",
              " ), Discriminator(\n",
              "   (layer_1): Sequential(\n",
              "     (0): Linear(in_features=784, out_features=1024, bias=True)\n",
              "     (1): LeakyReLU(negative_slope=0.2)\n",
              "     (2): Dropout(p=0.3)\n",
              "   )\n",
              "   (layer_2): Sequential(\n",
              "     (0): Linear(in_features=1024, out_features=512, bias=True)\n",
              "     (1): LeakyReLU(negative_slope=0.2)\n",
              "     (2): Dropout(p=0.3)\n",
              "   )\n",
              "   (layer_3): Sequential(\n",
              "     (0): Linear(in_features=512, out_features=256, bias=True)\n",
              "     (1): LeakyReLU(negative_slope=0.2)\n",
              "     (2): Dropout(p=0.3)\n",
              "   )\n",
              "   (layer_4): Sequential(\n",
              "     (0): Linear(in_features=256, out_features=1, bias=True)\n",
              "     (1): Sigmoid()\n",
              "   )\n",
              " ))"
            ]
          },
          "metadata": {
            "tags": []
          },
          "execution_count": 14
        }
      ]
    },
    {
      "cell_type": "markdown",
      "metadata": {
        "id": "pQYMYDPPFgW3",
        "colab_type": "text"
      },
      "source": [
        "Generate fake images from noise"
      ]
    },
    {
      "cell_type": "code",
      "metadata": {
        "id": "2UgUl-6LC9jY",
        "colab_type": "code",
        "outputId": "ca4e9795-a5ab-4bd8-e832-84582f8c628c",
        "colab": {
          "base_uri": "https://localhost:8080/",
          "height": 34
        }
      },
      "source": [
        "fake_X = generator(noise(128))\n",
        "fake_imgs = vectors_to_images(fake_X).detach()\n",
        "fake_imgs.size()"
      ],
      "execution_count": 15,
      "outputs": [
        {
          "output_type": "execute_result",
          "data": {
            "text/plain": [
              "torch.Size([128, 1, 28, 28])"
            ]
          },
          "metadata": {
            "tags": []
          },
          "execution_count": 15
        }
      ]
    },
    {
      "cell_type": "markdown",
      "metadata": {
        "id": "mWazLgFuFjAt",
        "colab_type": "text"
      },
      "source": [
        "Display fake images"
      ]
    },
    {
      "cell_type": "code",
      "metadata": {
        "id": "JYPKiRXXDpFt",
        "colab_type": "code",
        "outputId": "2926a8bb-3df0-404d-ed70-6e1420770e0b",
        "colab": {
          "base_uri": "https://localhost:8080/",
          "height": 499
        }
      },
      "source": [
        "plt.figure(figsize=(8,8))\n",
        "plt.axis(\"off\")\n",
        "plt.title(\"Fake Images\")\n",
        "plt.imshow(np.transpose(vutils.make_grid(fake_imgs.cuda()[:64], padding=2, normalize=True).cpu(),(1,2,0)))\n",
        "plt.show()"
      ],
      "execution_count": 16,
      "outputs": [
        {
          "output_type": "display_data",
          "data": {
            "image/png": "[encoded data removed]",
            "text/plain": [
              "<Figure size 576x576 with 1 Axes>"
            ]
          },
          "metadata": {
            "tags": []
          }
        }
      ]
    }
  ]
}